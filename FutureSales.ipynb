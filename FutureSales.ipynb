{
 "cells": [
  {
   "cell_type": "code",
   "execution_count": 67,
   "metadata": {},
   "outputs": [],
   "source": [
    "# Imports de librerías\n",
    "import pandas as pd\n",
    "import numpy as np\n",
    "import xgboost as xgb\n",
    "import matplotlib.pyplot as plt\n",
    "import seaborn as sns\n",
    "\n",
    "from sklearn.preprocessing import MinMaxScaler\n",
    "from sklearn.linear_model import LinearRegression\n",
    "from sklearn.metrics import mean_squared_error, mean_absolute_error, r2_score\n",
    "from sklearn.ensemble import RandomForestRegressor\n",
    "from xgboost.sklearn import XGBRegressor\n",
    "from sklearn.model_selection import KFold, cross_val_score, train_test_split"
   ]
  },
  {
   "cell_type": "code",
   "execution_count": 80,
   "metadata": {},
   "outputs": [
    {
     "data": {
      "text/html": [
       "<div>\n",
       "<style scoped>\n",
       "    .dataframe tbody tr th:only-of-type {\n",
       "        vertical-align: middle;\n",
       "    }\n",
       "\n",
       "    .dataframe tbody tr th {\n",
       "        vertical-align: top;\n",
       "    }\n",
       "\n",
       "    .dataframe thead th {\n",
       "        text-align: right;\n",
       "    }\n",
       "</style>\n",
       "<table border=\"1\" class=\"dataframe\">\n",
       "  <thead>\n",
       "    <tr style=\"text-align: right;\">\n",
       "      <th></th>\n",
       "      <th>Retailer</th>\n",
       "      <th>RetailerID</th>\n",
       "      <th>InvoiceDate</th>\n",
       "      <th>Region</th>\n",
       "      <th>State</th>\n",
       "      <th>City</th>\n",
       "      <th>Product</th>\n",
       "      <th>PricePerUnit</th>\n",
       "      <th>UnitsSold</th>\n",
       "      <th>TotalSales</th>\n",
       "      <th>OperatingProfit</th>\n",
       "      <th>SalesMethod</th>\n",
       "    </tr>\n",
       "  </thead>\n",
       "  <tbody>\n",
       "    <tr>\n",
       "      <th>0</th>\n",
       "      <td>Walmart</td>\n",
       "      <td>1128299</td>\n",
       "      <td>17-06-2021</td>\n",
       "      <td>Southeast</td>\n",
       "      <td>Florida</td>\n",
       "      <td>Orlando</td>\n",
       "      <td>Women's Apparel</td>\n",
       "      <td>103.0</td>\n",
       "      <td>218.0</td>\n",
       "      <td>2245.0</td>\n",
       "      <td>1257.0</td>\n",
       "      <td>Online</td>\n",
       "    </tr>\n",
       "    <tr>\n",
       "      <th>1</th>\n",
       "      <td>West Gear</td>\n",
       "      <td>1128299</td>\n",
       "      <td>16-07-2021</td>\n",
       "      <td>South</td>\n",
       "      <td>Louisiana</td>\n",
       "      <td>New Orleans</td>\n",
       "      <td>Women's Apparel</td>\n",
       "      <td>103.0</td>\n",
       "      <td>163.0</td>\n",
       "      <td>1679.0</td>\n",
       "      <td>806.0</td>\n",
       "      <td>Online</td>\n",
       "    </tr>\n",
       "    <tr>\n",
       "      <th>2</th>\n",
       "      <td>Sports Direct</td>\n",
       "      <td>1197831</td>\n",
       "      <td>25-08-2021</td>\n",
       "      <td>South</td>\n",
       "      <td>Alabama</td>\n",
       "      <td>Birmingham</td>\n",
       "      <td>Men's Street Footwear</td>\n",
       "      <td>10.0</td>\n",
       "      <td>700.0</td>\n",
       "      <td>7000.0</td>\n",
       "      <td>3150.0</td>\n",
       "      <td>Outlet</td>\n",
       "    </tr>\n",
       "    <tr>\n",
       "      <th>3</th>\n",
       "      <td>Sports Direct</td>\n",
       "      <td>1197831</td>\n",
       "      <td>27-08-2021</td>\n",
       "      <td>South</td>\n",
       "      <td>Alabama</td>\n",
       "      <td>Birmingham</td>\n",
       "      <td>Women's Street Footwear</td>\n",
       "      <td>15.0</td>\n",
       "      <td>575.0</td>\n",
       "      <td>8625.0</td>\n",
       "      <td>3881.0</td>\n",
       "      <td>Outlet</td>\n",
       "    </tr>\n",
       "    <tr>\n",
       "      <th>4</th>\n",
       "      <td>Sports Direct</td>\n",
       "      <td>1197831</td>\n",
       "      <td>21-08-2021</td>\n",
       "      <td>South</td>\n",
       "      <td>Alabama</td>\n",
       "      <td>Birmingham</td>\n",
       "      <td>Women's Street Footwear</td>\n",
       "      <td>15.0</td>\n",
       "      <td>475.0</td>\n",
       "      <td>7125.0</td>\n",
       "      <td>3206.0</td>\n",
       "      <td>Outlet</td>\n",
       "    </tr>\n",
       "  </tbody>\n",
       "</table>\n",
       "</div>"
      ],
      "text/plain": [
       "        Retailer  RetailerID InvoiceDate     Region      State         City  \\\n",
       "0        Walmart     1128299  17-06-2021  Southeast    Florida      Orlando   \n",
       "1      West Gear     1128299  16-07-2021      South  Louisiana  New Orleans   \n",
       "2  Sports Direct     1197831  25-08-2021      South    Alabama   Birmingham   \n",
       "3  Sports Direct     1197831  27-08-2021      South    Alabama   Birmingham   \n",
       "4  Sports Direct     1197831  21-08-2021      South    Alabama   Birmingham   \n",
       "\n",
       "                   Product  PricePerUnit  UnitsSold  TotalSales  \\\n",
       "0          Women's Apparel         103.0      218.0      2245.0   \n",
       "1          Women's Apparel         103.0      163.0      1679.0   \n",
       "2    Men's Street Footwear          10.0      700.0      7000.0   \n",
       "3  Women's Street Footwear          15.0      575.0      8625.0   \n",
       "4  Women's Street Footwear          15.0      475.0      7125.0   \n",
       "\n",
       "   OperatingProfit SalesMethod  \n",
       "0           1257.0      Online  \n",
       "1            806.0      Online  \n",
       "2           3150.0      Outlet  \n",
       "3           3881.0      Outlet  \n",
       "4           3206.0      Outlet  "
      ]
     },
     "execution_count": 80,
     "metadata": {},
     "output_type": "execute_result"
    }
   ],
   "source": [
    "### Cargar del dataset\n",
    "url = 'https://raw.githubusercontent.com/lespinozahuiman/Datasets/main/DataSet_TF_v5.csv'\n",
    "\n",
    "data = pd.read_csv(url)\n",
    "#data['TotalSales'] = data['PricePerUnit'] * data['UnitsSold']\n",
    "data.head()"
   ]
  },
  {
   "cell_type": "code",
   "execution_count": 81,
   "metadata": {},
   "outputs": [
    {
     "name": "stdout",
     "output_type": "stream",
     "text": [
      "<class 'pandas.core.frame.DataFrame'>\n",
      "RangeIndex: 9641 entries, 0 to 9640\n",
      "Data columns (total 12 columns):\n",
      " #   Column           Non-Null Count  Dtype  \n",
      "---  ------           --------------  -----  \n",
      " 0   Retailer         9641 non-null   object \n",
      " 1   RetailerID       9641 non-null   int64  \n",
      " 2   InvoiceDate      9641 non-null   object \n",
      " 3   Region           9641 non-null   object \n",
      " 4   State            9641 non-null   object \n",
      " 5   City             9641 non-null   object \n",
      " 6   Product          9641 non-null   object \n",
      " 7   PricePerUnit     9639 non-null   float64\n",
      " 8   UnitsSold        9641 non-null   float64\n",
      " 9   TotalSales       9641 non-null   float64\n",
      " 10  OperatingProfit  9641 non-null   float64\n",
      " 11  SalesMethod      9641 non-null   object \n",
      "dtypes: float64(4), int64(1), object(7)\n",
      "memory usage: 904.0+ KB\n"
     ]
    }
   ],
   "source": [
    "df_s = data.copy()\n",
    "df_s.info()"
   ]
  },
  {
   "cell_type": "code",
   "execution_count": 82,
   "metadata": {},
   "outputs": [
    {
     "data": {
      "text/html": [
       "<div>\n",
       "<style scoped>\n",
       "    .dataframe tbody tr th:only-of-type {\n",
       "        vertical-align: middle;\n",
       "    }\n",
       "\n",
       "    .dataframe tbody tr th {\n",
       "        vertical-align: top;\n",
       "    }\n",
       "\n",
       "    .dataframe thead th {\n",
       "        text-align: right;\n",
       "    }\n",
       "</style>\n",
       "<table border=\"1\" class=\"dataframe\">\n",
       "  <thead>\n",
       "    <tr style=\"text-align: right;\">\n",
       "      <th></th>\n",
       "      <th>Retailer</th>\n",
       "      <th>RetailerID</th>\n",
       "      <th>InvoiceDate</th>\n",
       "      <th>Region</th>\n",
       "      <th>State</th>\n",
       "      <th>City</th>\n",
       "      <th>Product</th>\n",
       "      <th>PricePerUnit</th>\n",
       "      <th>UnitsSold</th>\n",
       "      <th>TotalSales</th>\n",
       "      <th>OperatingProfit</th>\n",
       "      <th>SalesMethod</th>\n",
       "    </tr>\n",
       "  </thead>\n",
       "  <tbody>\n",
       "    <tr>\n",
       "      <th>9636</th>\n",
       "      <td>Amazon</td>\n",
       "      <td>1185732</td>\n",
       "      <td>18-11-2021</td>\n",
       "      <td>Northeast</td>\n",
       "      <td>Maine</td>\n",
       "      <td>Portland</td>\n",
       "      <td>Men's Apparel</td>\n",
       "      <td>65.0</td>\n",
       "      <td>150.0</td>\n",
       "      <td>9750.0</td>\n",
       "      <td>2438.0</td>\n",
       "      <td>Outlet</td>\n",
       "    </tr>\n",
       "    <tr>\n",
       "      <th>9637</th>\n",
       "      <td>Amazon</td>\n",
       "      <td>1185732</td>\n",
       "      <td>22-10-2021</td>\n",
       "      <td>West</td>\n",
       "      <td>Alaska</td>\n",
       "      <td>Anchorage</td>\n",
       "      <td>Women's Athletic Footwear</td>\n",
       "      <td>65.0</td>\n",
       "      <td>150.0</td>\n",
       "      <td>9750.0</td>\n",
       "      <td>2438.0</td>\n",
       "      <td>Outlet</td>\n",
       "    </tr>\n",
       "    <tr>\n",
       "      <th>9638</th>\n",
       "      <td>Amazon</td>\n",
       "      <td>1185732</td>\n",
       "      <td>22-10-2021</td>\n",
       "      <td>West</td>\n",
       "      <td>Alaska</td>\n",
       "      <td>Anchorage</td>\n",
       "      <td>Men's Apparel</td>\n",
       "      <td>75.0</td>\n",
       "      <td>150.0</td>\n",
       "      <td>11250.0</td>\n",
       "      <td>2813.0</td>\n",
       "      <td>Outlet</td>\n",
       "    </tr>\n",
       "    <tr>\n",
       "      <th>9639</th>\n",
       "      <td>West Gear</td>\n",
       "      <td>1185732</td>\n",
       "      <td>04-10-2021</td>\n",
       "      <td>Midwest</td>\n",
       "      <td>Indiana</td>\n",
       "      <td>Indianapolis</td>\n",
       "      <td>Men's Apparel</td>\n",
       "      <td>65.0</td>\n",
       "      <td>150.0</td>\n",
       "      <td>9750.0</td>\n",
       "      <td>2925.0</td>\n",
       "      <td>In-store</td>\n",
       "    </tr>\n",
       "    <tr>\n",
       "      <th>9640</th>\n",
       "      <td>Sports Direct</td>\n",
       "      <td>1185732</td>\n",
       "      <td>10-05-2021</td>\n",
       "      <td>Northeast</td>\n",
       "      <td>Connecticut</td>\n",
       "      <td>Hartford</td>\n",
       "      <td>Men's Apparel</td>\n",
       "      <td>65.0</td>\n",
       "      <td>150.0</td>\n",
       "      <td>9750.0</td>\n",
       "      <td>2925.0</td>\n",
       "      <td>In-store</td>\n",
       "    </tr>\n",
       "  </tbody>\n",
       "</table>\n",
       "</div>"
      ],
      "text/plain": [
       "           Retailer  RetailerID InvoiceDate     Region        State  \\\n",
       "9636         Amazon     1185732  18-11-2021  Northeast        Maine   \n",
       "9637         Amazon     1185732  22-10-2021       West       Alaska   \n",
       "9638         Amazon     1185732  22-10-2021       West       Alaska   \n",
       "9639      West Gear     1185732  04-10-2021    Midwest      Indiana   \n",
       "9640  Sports Direct     1185732  10-05-2021  Northeast  Connecticut   \n",
       "\n",
       "              City                    Product  PricePerUnit  UnitsSold  \\\n",
       "9636      Portland              Men's Apparel          65.0      150.0   \n",
       "9637     Anchorage  Women's Athletic Footwear          65.0      150.0   \n",
       "9638     Anchorage              Men's Apparel          75.0      150.0   \n",
       "9639  Indianapolis              Men's Apparel          65.0      150.0   \n",
       "9640      Hartford              Men's Apparel          65.0      150.0   \n",
       "\n",
       "      TotalSales  OperatingProfit SalesMethod  \n",
       "9636      9750.0           2438.0      Outlet  \n",
       "9637      9750.0           2438.0      Outlet  \n",
       "9638     11250.0           2813.0      Outlet  \n",
       "9639      9750.0           2925.0    In-store  \n",
       "9640      9750.0           2925.0    In-store  "
      ]
     },
     "execution_count": 82,
     "metadata": {},
     "output_type": "execute_result"
    }
   ],
   "source": [
    "df_s.tail()"
   ]
  },
  {
   "cell_type": "code",
   "execution_count": 83,
   "metadata": {},
   "outputs": [
    {
     "data": {
      "text/plain": [
       "count     9641.000000\n",
       "mean      9316.467898\n",
       "std      14182.917947\n",
       "min          0.000000\n",
       "25%        425.000000\n",
       "50%        957.000000\n",
       "75%      15000.000000\n",
       "max      82500.000000\n",
       "Name: TotalSales, dtype: float64"
      ]
     },
     "execution_count": 83,
     "metadata": {},
     "output_type": "execute_result"
    }
   ],
   "source": [
    "df_s['TotalSales'].describe()"
   ]
  },
  {
   "cell_type": "code",
   "execution_count": 84,
   "metadata": {},
   "outputs": [
    {
     "data": {
      "text/plain": [
       "<Axes: >"
      ]
     },
     "execution_count": 84,
     "metadata": {},
     "output_type": "execute_result"
    },
    {
     "data": {
      "image/png": "[encoded data removed]",
      "text/plain": [
       "<Figure size 640x480 with 1 Axes>"
      ]
     },
     "metadata": {},
     "output_type": "display_data"
    }
   ],
   "source": [
    "df_s['TotalSales'].plot()"
   ]
  },
  {
   "cell_type": "code",
   "execution_count": 85,
   "metadata": {},
   "outputs": [],
   "source": [
    "def monthOrYears_sales(data, time=['monthly', 'year']):\n",
    "    data = data.copy()\n",
    "\n",
    "    if time == \"monthly\":\n",
    "        data.InvoiceDate = data.InvoiceDate.apply(lambda x: str(x)[:-3])\n",
    "    else:\n",
    "        data.InvoiceDate = data.InvoiceDate.apply(lambda x: str(x)[:4])\n",
    "    \n",
    "    data = data.groupby('InvoiceDate')['TotalSales'].sum().reset_index()\n",
    "    data.InvoiceDate = pd.to_datetime(data.InvoiceDate)\n",
    "\n",
    "    return data"
   ]
  },
  {
   "cell_type": "code",
   "execution_count": 86,
   "metadata": {},
   "outputs": [
    {
     "name": "stderr",
     "output_type": "stream",
     "text": [
      "/var/folders/m2/030rdksn1yg5r7l01hsf80bh0000gn/T/ipykernel_25533/1803974453.py:10: UserWarning: Could not infer format, so each element will be parsed individually, falling back to `dateutil`. To ensure parsing is consistent and as-expected, please specify a format.\n",
      "  data.InvoiceDate = pd.to_datetime(data.InvoiceDate)\n"
     ]
    },
    {
     "data": {
      "text/html": [
       "<div>\n",
       "<style scoped>\n",
       "    .dataframe tbody tr th:only-of-type {\n",
       "        vertical-align: middle;\n",
       "    }\n",
       "\n",
       "    .dataframe tbody tr th {\n",
       "        vertical-align: top;\n",
       "    }\n",
       "\n",
       "    .dataframe thead th {\n",
       "        text-align: right;\n",
       "    }\n",
       "</style>\n",
       "<table border=\"1\" class=\"dataframe\">\n",
       "  <thead>\n",
       "    <tr style=\"text-align: right;\">\n",
       "      <th></th>\n",
       "      <th>InvoiceDate</th>\n",
       "      <th>TotalSales</th>\n",
       "    </tr>\n",
       "  </thead>\n",
       "  <tbody>\n",
       "    <tr>\n",
       "      <th>0</th>\n",
       "      <td>2002-01-01</td>\n",
       "      <td>150004.0</td>\n",
       "    </tr>\n",
       "    <tr>\n",
       "      <th>1</th>\n",
       "      <td>2002-01-02</td>\n",
       "      <td>142002.0</td>\n",
       "    </tr>\n",
       "    <tr>\n",
       "      <th>2</th>\n",
       "      <td>2002-01-03</td>\n",
       "      <td>166262.0</td>\n",
       "    </tr>\n",
       "    <tr>\n",
       "      <th>3</th>\n",
       "      <td>2002-01-04</td>\n",
       "      <td>82967.0</td>\n",
       "    </tr>\n",
       "    <tr>\n",
       "      <th>4</th>\n",
       "      <td>2002-01-05</td>\n",
       "      <td>251084.0</td>\n",
       "    </tr>\n",
       "  </tbody>\n",
       "</table>\n",
       "</div>"
      ],
      "text/plain": [
       "  InvoiceDate  TotalSales\n",
       "0  2002-01-01    150004.0\n",
       "1  2002-01-02    142002.0\n",
       "2  2002-01-03    166262.0\n",
       "3  2002-01-04     82967.0\n",
       "4  2002-01-05    251084.0"
      ]
     },
     "execution_count": 86,
     "metadata": {},
     "output_type": "execute_result"
    }
   ],
   "source": [
    "m_df = monthOrYears_sales(df_s, \"monthly\")\n",
    "m_df.head()"
   ]
  },
  {
   "cell_type": "code",
   "execution_count": 87,
   "metadata": {},
   "outputs": [
    {
     "data": {
      "text/html": [
       "<div>\n",
       "<style scoped>\n",
       "    .dataframe tbody tr th:only-of-type {\n",
       "        vertical-align: middle;\n",
       "    }\n",
       "\n",
       "    .dataframe tbody tr th {\n",
       "        vertical-align: top;\n",
       "    }\n",
       "\n",
       "    .dataframe thead th {\n",
       "        text-align: right;\n",
       "    }\n",
       "</style>\n",
       "<table border=\"1\" class=\"dataframe\">\n",
       "  <thead>\n",
       "    <tr style=\"text-align: right;\">\n",
       "      <th></th>\n",
       "      <th>InvoiceDate</th>\n",
       "      <th>TotalSales</th>\n",
       "    </tr>\n",
       "  </thead>\n",
       "  <tbody>\n",
       "    <tr>\n",
       "      <th>0</th>\n",
       "      <td>2002-01-01</td>\n",
       "      <td>150004.0</td>\n",
       "    </tr>\n",
       "    <tr>\n",
       "      <th>1</th>\n",
       "      <td>2002-01-02</td>\n",
       "      <td>142002.0</td>\n",
       "    </tr>\n",
       "    <tr>\n",
       "      <th>2</th>\n",
       "      <td>2002-01-03</td>\n",
       "      <td>166262.0</td>\n",
       "    </tr>\n",
       "    <tr>\n",
       "      <th>3</th>\n",
       "      <td>2002-01-04</td>\n",
       "      <td>82967.0</td>\n",
       "    </tr>\n",
       "    <tr>\n",
       "      <th>4</th>\n",
       "      <td>2002-01-05</td>\n",
       "      <td>251084.0</td>\n",
       "    </tr>\n",
       "    <tr>\n",
       "      <th>5</th>\n",
       "      <td>2002-01-06</td>\n",
       "      <td>334206.0</td>\n",
       "    </tr>\n",
       "    <tr>\n",
       "      <th>6</th>\n",
       "      <td>2002-01-07</td>\n",
       "      <td>225750.0</td>\n",
       "    </tr>\n",
       "    <tr>\n",
       "      <th>7</th>\n",
       "      <td>2002-01-08</td>\n",
       "      <td>142569.0</td>\n",
       "    </tr>\n",
       "    <tr>\n",
       "      <th>8</th>\n",
       "      <td>2002-01-09</td>\n",
       "      <td>341885.0</td>\n",
       "    </tr>\n",
       "    <tr>\n",
       "      <th>9</th>\n",
       "      <td>2002-01-10</td>\n",
       "      <td>387630.0</td>\n",
       "    </tr>\n",
       "  </tbody>\n",
       "</table>\n",
       "</div>"
      ],
      "text/plain": [
       "  InvoiceDate  TotalSales\n",
       "0  2002-01-01    150004.0\n",
       "1  2002-01-02    142002.0\n",
       "2  2002-01-03    166262.0\n",
       "3  2002-01-04     82967.0\n",
       "4  2002-01-05    251084.0\n",
       "5  2002-01-06    334206.0\n",
       "6  2002-01-07    225750.0\n",
       "7  2002-01-08    142569.0\n",
       "8  2002-01-09    341885.0\n",
       "9  2002-01-10    387630.0"
      ]
     },
     "execution_count": 87,
     "metadata": {},
     "output_type": "execute_result"
    }
   ],
   "source": [
    "m_df.head(10)"
   ]
  },
  {
   "cell_type": "code",
   "execution_count": 88,
   "metadata": {},
   "outputs": [
    {
     "data": {
      "text/plain": [
       "<matplotlib.legend.Legend at 0x1307b35c0>"
      ]
     },
     "execution_count": 88,
     "metadata": {},
     "output_type": "execute_result"
    },
    {
     "data": {
      "image/png": "[encoded data removed]",
      "text/plain": [
       "<Figure size 640x480 with 1 Axes>"
      ]
     },
     "metadata": {},
     "output_type": "display_data"
    }
   ],
   "source": [
    "layout = (1, 2)\n",
    "\n",
    "law = plt.subplot2grid(layout, (0, 1))\n",
    "\n",
    "months = m_df['TotalSales'].plot(marker='o', color='orange', label='Total Sales', ax=law)\n",
    "\n",
    "months.set(xlabel='Month', title='Distrución de Ventas por Meses')\n",
    "\n",
    "sns.despine()\n",
    "plt.tight_layout()\n",
    "months.legend()"
   ]
  },
  {
   "cell_type": "code",
   "execution_count": 89,
   "metadata": {},
   "outputs": [],
   "source": [
    "def sales_time(data):\n",
    "    data.InvoiceDate = pd.to_datetime(data.InvoiceDate)\n",
    "    n_of_days = data.InvoiceDate.max() - data.InvoiceDate.min()"
   ]
  },
  {
   "cell_type": "code",
   "execution_count": 90,
   "metadata": {},
   "outputs": [
    {
     "name": "stderr",
     "output_type": "stream",
     "text": [
      "/var/folders/m2/030rdksn1yg5r7l01hsf80bh0000gn/T/ipykernel_25533/3677277418.py:2: UserWarning: Parsing dates in %d-%m-%Y format when dayfirst=False (the default) was specified. Pass `dayfirst=True` or specify a format to silence this warning.\n",
      "  data.InvoiceDate = pd.to_datetime(data.InvoiceDate)\n"
     ]
    }
   ],
   "source": [
    "sales_time(df_s)"
   ]
  },
  {
   "cell_type": "code",
   "execution_count": 91,
   "metadata": {},
   "outputs": [],
   "source": [
    "def sales_per_store(data):\n",
    "    sales_by_store = data.groupby('Retailer')['TotalSales'].sum().reset_index()\n",
    "\n",
    "    #fig, ax = plt.subplots(figsize=(8, 6))\n",
    "    #sns.barplot(sales_by_store.Retailer, sales_by_store.TotalSales, color='red')\n",
    "\n",
    "    #ax.set(xlabel=\"Store\", ylabel=\"Total de Ventas\", title=\"Total de Ventas por Tienda\")\n",
    "\n",
    "    return sales_by_store"
   ]
  },
  {
   "cell_type": "code",
   "execution_count": 92,
   "metadata": {},
   "outputs": [
    {
     "data": {
      "text/html": [
       "<div>\n",
       "<style scoped>\n",
       "    .dataframe tbody tr th:only-of-type {\n",
       "        vertical-align: middle;\n",
       "    }\n",
       "\n",
       "    .dataframe tbody tr th {\n",
       "        vertical-align: top;\n",
       "    }\n",
       "\n",
       "    .dataframe thead th {\n",
       "        text-align: right;\n",
       "    }\n",
       "</style>\n",
       "<table border=\"1\" class=\"dataframe\">\n",
       "  <thead>\n",
       "    <tr style=\"text-align: right;\">\n",
       "      <th></th>\n",
       "      <th>Retailer</th>\n",
       "      <th>TotalSales</th>\n",
       "    </tr>\n",
       "  </thead>\n",
       "  <tbody>\n",
       "    <tr>\n",
       "      <th>0</th>\n",
       "      <td>Amazon</td>\n",
       "      <td>7769912.0</td>\n",
       "    </tr>\n",
       "    <tr>\n",
       "      <th>1</th>\n",
       "      <td>Foot Locker</td>\n",
       "      <td>21989528.0</td>\n",
       "    </tr>\n",
       "    <tr>\n",
       "      <th>2</th>\n",
       "      <td>Kohl's</td>\n",
       "      <td>10211506.0</td>\n",
       "    </tr>\n",
       "    <tr>\n",
       "      <th>3</th>\n",
       "      <td>Sports Direct</td>\n",
       "      <td>18188531.0</td>\n",
       "    </tr>\n",
       "    <tr>\n",
       "      <th>4</th>\n",
       "      <td>Walmart</td>\n",
       "      <td>7455850.0</td>\n",
       "    </tr>\n",
       "    <tr>\n",
       "      <th>5</th>\n",
       "      <td>West Gear</td>\n",
       "      <td>24204740.0</td>\n",
       "    </tr>\n",
       "  </tbody>\n",
       "</table>\n",
       "</div>"
      ],
      "text/plain": [
       "        Retailer  TotalSales\n",
       "0         Amazon   7769912.0\n",
       "1    Foot Locker  21989528.0\n",
       "2         Kohl's  10211506.0\n",
       "3  Sports Direct  18188531.0\n",
       "4        Walmart   7455850.0\n",
       "5      West Gear  24204740.0"
      ]
     },
     "execution_count": 92,
     "metadata": {},
     "output_type": "execute_result"
    }
   ],
   "source": [
    "sales_per_store(df_s)"
   ]
  },
  {
   "cell_type": "code",
   "execution_count": 93,
   "metadata": {},
   "outputs": [],
   "source": [
    "def get_diff(data):\n",
    "    data['sales_diff'] = data.TotalSales.diff()\n",
    "    data = data.dropna()\n",
    "\n",
    "    return data"
   ]
  },
  {
   "cell_type": "code",
   "execution_count": 94,
   "metadata": {},
   "outputs": [],
   "source": [
    "stationary_df = get_diff(m_df)"
   ]
  },
  {
   "cell_type": "code",
   "execution_count": 95,
   "metadata": {},
   "outputs": [],
   "source": [
    "# ARIMA\n",
    "def build_arima_data(data):\n",
    "    da_data = data.set_index('InvoiceDate').drop('TotalSales', axis=1)\n",
    "    da_data.dropna(axis=0)\n",
    "\n",
    "    return da_data"
   ]
  },
  {
   "cell_type": "code",
   "execution_count": 96,
   "metadata": {},
   "outputs": [
    {
     "data": {
      "text/html": [
       "<div>\n",
       "<style scoped>\n",
       "    .dataframe tbody tr th:only-of-type {\n",
       "        vertical-align: middle;\n",
       "    }\n",
       "\n",
       "    .dataframe tbody tr th {\n",
       "        vertical-align: top;\n",
       "    }\n",
       "\n",
       "    .dataframe thead th {\n",
       "        text-align: right;\n",
       "    }\n",
       "</style>\n",
       "<table border=\"1\" class=\"dataframe\">\n",
       "  <thead>\n",
       "    <tr style=\"text-align: right;\">\n",
       "      <th></th>\n",
       "      <th>sales_diff</th>\n",
       "    </tr>\n",
       "    <tr>\n",
       "      <th>InvoiceDate</th>\n",
       "      <th></th>\n",
       "    </tr>\n",
       "  </thead>\n",
       "  <tbody>\n",
       "    <tr>\n",
       "      <th>2002-01-02</th>\n",
       "      <td>-8002.0</td>\n",
       "    </tr>\n",
       "    <tr>\n",
       "      <th>2002-01-03</th>\n",
       "      <td>24260.0</td>\n",
       "    </tr>\n",
       "    <tr>\n",
       "      <th>2002-01-04</th>\n",
       "      <td>-83295.0</td>\n",
       "    </tr>\n",
       "    <tr>\n",
       "      <th>2002-01-05</th>\n",
       "      <td>168117.0</td>\n",
       "    </tr>\n",
       "    <tr>\n",
       "      <th>2002-01-06</th>\n",
       "      <td>83122.0</td>\n",
       "    </tr>\n",
       "    <tr>\n",
       "      <th>...</th>\n",
       "      <td>...</td>\n",
       "    </tr>\n",
       "    <tr>\n",
       "      <th>2002-05-31</th>\n",
       "      <td>-14634.0</td>\n",
       "    </tr>\n",
       "    <tr>\n",
       "      <th>2002-07-31</th>\n",
       "      <td>62188.0</td>\n",
       "    </tr>\n",
       "    <tr>\n",
       "      <th>2002-08-31</th>\n",
       "      <td>-23110.0</td>\n",
       "    </tr>\n",
       "    <tr>\n",
       "      <th>2002-10-31</th>\n",
       "      <td>-27051.0</td>\n",
       "    </tr>\n",
       "    <tr>\n",
       "      <th>2002-12-31</th>\n",
       "      <td>25717.0</td>\n",
       "    </tr>\n",
       "  </tbody>\n",
       "</table>\n",
       "<p>364 rows × 1 columns</p>\n",
       "</div>"
      ],
      "text/plain": [
       "             sales_diff\n",
       "InvoiceDate            \n",
       "2002-01-02      -8002.0\n",
       "2002-01-03      24260.0\n",
       "2002-01-04     -83295.0\n",
       "2002-01-05     168117.0\n",
       "2002-01-06      83122.0\n",
       "...                 ...\n",
       "2002-05-31     -14634.0\n",
       "2002-07-31      62188.0\n",
       "2002-08-31     -23110.0\n",
       "2002-10-31     -27051.0\n",
       "2002-12-31      25717.0\n",
       "\n",
       "[364 rows x 1 columns]"
      ]
     },
     "execution_count": 96,
     "metadata": {},
     "output_type": "execute_result"
    }
   ],
   "source": [
    "datatime_df = build_arima_data(stationary_df)\n",
    "datatime_df"
   ]
  },
  {
   "cell_type": "code",
   "execution_count": 97,
   "metadata": {},
   "outputs": [],
   "source": [
    "# Construyendo modelo supervisado\n",
    "def build_supervised(data):\n",
    "    supervised_df = data.copy()\n",
    "\n",
    "    for i in range(1,4):\n",
    "        col_name = 'month_' + str(i)\n",
    "        supervised_df[col_name] = supervised_df['sales_diff'].shift(i)\n",
    "\n",
    "    supervised_df = supervised_df.dropna().reset_index(drop=True)\n",
    "\n",
    "    return supervised_df"
   ]
  },
  {
   "cell_type": "code",
   "execution_count": 98,
   "metadata": {},
   "outputs": [
    {
     "data": {
      "text/html": [
       "<div>\n",
       "<style scoped>\n",
       "    .dataframe tbody tr th:only-of-type {\n",
       "        vertical-align: middle;\n",
       "    }\n",
       "\n",
       "    .dataframe tbody tr th {\n",
       "        vertical-align: top;\n",
       "    }\n",
       "\n",
       "    .dataframe thead th {\n",
       "        text-align: right;\n",
       "    }\n",
       "</style>\n",
       "<table border=\"1\" class=\"dataframe\">\n",
       "  <thead>\n",
       "    <tr style=\"text-align: right;\">\n",
       "      <th></th>\n",
       "      <th>InvoiceDate</th>\n",
       "      <th>TotalSales</th>\n",
       "      <th>sales_diff</th>\n",
       "      <th>month_1</th>\n",
       "      <th>month_2</th>\n",
       "      <th>month_3</th>\n",
       "    </tr>\n",
       "  </thead>\n",
       "  <tbody>\n",
       "    <tr>\n",
       "      <th>0</th>\n",
       "      <td>2002-01-05</td>\n",
       "      <td>251084.0</td>\n",
       "      <td>168117.0</td>\n",
       "      <td>-83295.0</td>\n",
       "      <td>24260.0</td>\n",
       "      <td>-8002.0</td>\n",
       "    </tr>\n",
       "    <tr>\n",
       "      <th>1</th>\n",
       "      <td>2002-01-06</td>\n",
       "      <td>334206.0</td>\n",
       "      <td>83122.0</td>\n",
       "      <td>168117.0</td>\n",
       "      <td>-83295.0</td>\n",
       "      <td>24260.0</td>\n",
       "    </tr>\n",
       "    <tr>\n",
       "      <th>2</th>\n",
       "      <td>2002-01-07</td>\n",
       "      <td>225750.0</td>\n",
       "      <td>-108456.0</td>\n",
       "      <td>83122.0</td>\n",
       "      <td>168117.0</td>\n",
       "      <td>-83295.0</td>\n",
       "    </tr>\n",
       "    <tr>\n",
       "      <th>3</th>\n",
       "      <td>2002-01-08</td>\n",
       "      <td>142569.0</td>\n",
       "      <td>-83181.0</td>\n",
       "      <td>-108456.0</td>\n",
       "      <td>83122.0</td>\n",
       "      <td>168117.0</td>\n",
       "    </tr>\n",
       "    <tr>\n",
       "      <th>4</th>\n",
       "      <td>2002-01-09</td>\n",
       "      <td>341885.0</td>\n",
       "      <td>199316.0</td>\n",
       "      <td>-83181.0</td>\n",
       "      <td>-108456.0</td>\n",
       "      <td>83122.0</td>\n",
       "    </tr>\n",
       "    <tr>\n",
       "      <th>...</th>\n",
       "      <td>...</td>\n",
       "      <td>...</td>\n",
       "      <td>...</td>\n",
       "      <td>...</td>\n",
       "      <td>...</td>\n",
       "      <td>...</td>\n",
       "    </tr>\n",
       "    <tr>\n",
       "      <th>356</th>\n",
       "      <td>2002-05-31</td>\n",
       "      <td>53777.0</td>\n",
       "      <td>-14634.0</td>\n",
       "      <td>-100637.0</td>\n",
       "      <td>127414.0</td>\n",
       "      <td>22315.0</td>\n",
       "    </tr>\n",
       "    <tr>\n",
       "      <th>357</th>\n",
       "      <td>2002-07-31</td>\n",
       "      <td>115965.0</td>\n",
       "      <td>62188.0</td>\n",
       "      <td>-14634.0</td>\n",
       "      <td>-100637.0</td>\n",
       "      <td>127414.0</td>\n",
       "    </tr>\n",
       "    <tr>\n",
       "      <th>358</th>\n",
       "      <td>2002-08-31</td>\n",
       "      <td>92855.0</td>\n",
       "      <td>-23110.0</td>\n",
       "      <td>62188.0</td>\n",
       "      <td>-14634.0</td>\n",
       "      <td>-100637.0</td>\n",
       "    </tr>\n",
       "    <tr>\n",
       "      <th>359</th>\n",
       "      <td>2002-10-31</td>\n",
       "      <td>65804.0</td>\n",
       "      <td>-27051.0</td>\n",
       "      <td>-23110.0</td>\n",
       "      <td>62188.0</td>\n",
       "      <td>-14634.0</td>\n",
       "    </tr>\n",
       "    <tr>\n",
       "      <th>360</th>\n",
       "      <td>2002-12-31</td>\n",
       "      <td>91521.0</td>\n",
       "      <td>25717.0</td>\n",
       "      <td>-27051.0</td>\n",
       "      <td>-23110.0</td>\n",
       "      <td>62188.0</td>\n",
       "    </tr>\n",
       "  </tbody>\n",
       "</table>\n",
       "<p>361 rows × 6 columns</p>\n",
       "</div>"
      ],
      "text/plain": [
       "    InvoiceDate  TotalSales  sales_diff   month_1   month_2   month_3\n",
       "0    2002-01-05    251084.0    168117.0  -83295.0   24260.0   -8002.0\n",
       "1    2002-01-06    334206.0     83122.0  168117.0  -83295.0   24260.0\n",
       "2    2002-01-07    225750.0   -108456.0   83122.0  168117.0  -83295.0\n",
       "3    2002-01-08    142569.0    -83181.0 -108456.0   83122.0  168117.0\n",
       "4    2002-01-09    341885.0    199316.0  -83181.0 -108456.0   83122.0\n",
       "..          ...         ...         ...       ...       ...       ...\n",
       "356  2002-05-31     53777.0    -14634.0 -100637.0  127414.0   22315.0\n",
       "357  2002-07-31    115965.0     62188.0  -14634.0 -100637.0  127414.0\n",
       "358  2002-08-31     92855.0    -23110.0   62188.0  -14634.0 -100637.0\n",
       "359  2002-10-31     65804.0    -27051.0  -23110.0   62188.0  -14634.0\n",
       "360  2002-12-31     91521.0     25717.0  -27051.0  -23110.0   62188.0\n",
       "\n",
       "[361 rows x 6 columns]"
      ]
     },
     "execution_count": 98,
     "metadata": {},
     "output_type": "execute_result"
    }
   ],
   "source": [
    "model_df = build_supervised(stationary_df)\n",
    "model_df"
   ]
  },
  {
   "cell_type": "code",
   "execution_count": 99,
   "metadata": {},
   "outputs": [
    {
     "name": "stdout",
     "output_type": "stream",
     "text": [
      "<class 'pandas.core.frame.DataFrame'>\n",
      "RangeIndex: 361 entries, 0 to 360\n",
      "Data columns (total 6 columns):\n",
      " #   Column       Non-Null Count  Dtype         \n",
      "---  ------       --------------  -----         \n",
      " 0   InvoiceDate  361 non-null    datetime64[ns]\n",
      " 1   TotalSales   361 non-null    float64       \n",
      " 2   sales_diff   361 non-null    float64       \n",
      " 3   month_1      361 non-null    float64       \n",
      " 4   month_2      361 non-null    float64       \n",
      " 5   month_3      361 non-null    float64       \n",
      "dtypes: datetime64[ns](1), float64(5)\n",
      "memory usage: 17.1 KB\n"
     ]
    }
   ],
   "source": [
    "model_df.info()"
   ]
  },
  {
   "cell_type": "code",
   "execution_count": 100,
   "metadata": {},
   "outputs": [
    {
     "name": "stdout",
     "output_type": "stream",
     "text": [
      "Train : (349, 4)\n",
      "Test : (12, 4)\n"
     ]
    }
   ],
   "source": [
    "def train_test_split(data):\n",
    "    data = data.drop(['TotalSales', 'InvoiceDate'], axis=1)\n",
    "    \n",
    "    train, test = data[:-12].values, data[-12:].values\n",
    "\n",
    "    return train, test\n",
    "\n",
    "train, test = train_test_split(model_df)\n",
    "print(f\"Train : {train.shape}\")\n",
    "print(f\"Test : {test.shape}\")"
   ]
  },
  {
   "cell_type": "code",
   "execution_count": 101,
   "metadata": {},
   "outputs": [
    {
     "name": "stdout",
     "output_type": "stream",
     "text": [
      "X Train: (349, 3)\n",
      "y Train: (349,)\n",
      "X Test: (12, 3)\n",
      "y Test: (12,)\n"
     ]
    }
   ],
   "source": [
    "def scale_data(train_set, test_set):\n",
    "    scaler = MinMaxScaler(feature_range=(-1, 1))\n",
    "    scaler = scaler.fit(train_set)\n",
    "    \n",
    "    train_set = train_set.reshape(train_set.shape[0], train_set.shape[1])\n",
    "    train_set_scaled = scaler.transform(train_set)\n",
    "\n",
    "    test_set = test_set.reshape(test_set.shape[0], test_set.shape[1])\n",
    "    test_set_scaled = scaler.transform(test_set)\n",
    "    \n",
    "    X_train, y_train = train_set_scaled[:, 1:], train_set_scaled[:, 0:1].ravel()\n",
    "    X_test, y_test = test_set_scaled[:, 1:], test_set_scaled[:, 0:1].ravel()\n",
    "    \n",
    "    return X_train, y_train, X_test, y_test, scaler\n",
    "\n",
    "X_train, y_train, X_test, y_test, scaler_object = scale_data(train, test)\n",
    "print(f\"X Train: {X_train.shape}\")\n",
    "print(f\"y Train: {y_train.shape}\")\n",
    "print(f\"X Test: {X_test.shape}\")\n",
    "print(f\"y Test: {y_test.shape}\")"
   ]
  },
  {
   "cell_type": "code",
   "execution_count": 102,
   "metadata": {},
   "outputs": [],
   "source": [
    "def re_scaling(y_pred, x_test, scaler_obj, lstm=False):\n",
    "    y_pred = y_pred.reshape(y_pred.shape[0], 1, 1)\n",
    "\n",
    "    if not lstm:\n",
    "        x_test = x_test.reshape(x_test.shape[0], 1, x_test.shape[1])\n",
    "\n",
    "\n",
    "    pred_test_set = []\n",
    "    for index in range(0, len(y_pred)):\n",
    "        pred_test_set.append(np.concatenate([y_pred[index], x_test[index]], axis=1))\n",
    "\n",
    "\n",
    "    pred_test_set = np.array(pred_test_set)\n",
    "    pred_test_set = pred_test_set.reshape(pred_test_set.shape[0], pred_test_set.shape[2])\n",
    "\n",
    "    pred_test_set_inverted = scaler_obj.inverse_transform(pred_test_set)\n",
    "\n",
    "    return pred_test_set_inverted"
   ]
  },
  {
   "cell_type": "code",
   "execution_count": 103,
   "metadata": {},
   "outputs": [],
   "source": [
    "def prediction_df(unscale_predictions, origin_df):\n",
    "    result_list = []\n",
    "    sales_dates = list(origin_df[-13:].InvoiceDate)\n",
    "    act_sales = list(origin_df[-13:].TotalSales)\n",
    "\n",
    "    for index in range(0, len(unscale_predictions)):\n",
    "        result_dict = {}\n",
    "        result_dict['pred_value'] = int(unscale_predictions[index][0] + act_sales[index])\n",
    "        result_dict['InvoiceDate'] = sales_dates[index + 1]\n",
    "        result_list.append(result_dict)\n",
    "\n",
    "    df_result = pd.DataFrame(result_list)\n",
    "\n",
    "    return df_result"
   ]
  },
  {
   "cell_type": "code",
   "execution_count": 104,
   "metadata": {},
   "outputs": [],
   "source": [
    "model_scores = {}\n",
    "\n",
    "def get_scores(unscale_df, origin_df, model_name):\n",
    "    rmse = np.sqrt(mean_squared_error(origin_df.TotalSales[-12:], unscale_df.pred_value[-12:]))\n",
    "    \n",
    "    mae = mean_absolute_error(origin_df.TotalSales[-12:], unscale_df.pred_value[-12:])\n",
    "    \n",
    "    r2 = r2_score(origin_df.TotalSales[-12:], unscale_df.pred_value[-12:])\n",
    "    \n",
    "    model_scores[model_name] = [rmse, mae, r2]\n",
    "\n",
    "    print(f\"RMSE: {rmse}\\nMAE: {mae}\\nR2 Score: {r2}\")"
   ]
  },
  {
   "cell_type": "code",
   "execution_count": 76,
   "metadata": {},
   "outputs": [],
   "source": [
    "def regressive_model(train_data, test_data, model, model_name):\n",
    "    X_train, y_train, X_test, y_test, scaler_object = scale_data(train_data, test_data)\n",
    "\n",
    "    mod = model\n",
    "    mod.fit(X_train, y_train)\n",
    "    predictions = mod.predict(X_test) # y_pred=predictions\n",
    "\n",
    "    origin_df = m_df\n",
    "    unscaled = re_scaling(predictions, X_test, scaler_object) # unscaled_predictions\n",
    "    unscaled_df = prediction_df(unscaled, origin_df)\n",
    "\n",
    "    get_scores(unscaled_df, origin_df, model_name)"
   ]
  },
  {
   "cell_type": "code",
   "execution_count": 77,
   "metadata": {},
   "outputs": [
    {
     "name": "stdout",
     "output_type": "stream",
     "text": [
      "RMSE: 45599.947382096834\n",
      "MAE: 34564.583333333336\n",
      "R2 Score: -0.34963739959470574\n"
     ]
    }
   ],
   "source": [
    "# Modelo Regresión Lineal\n",
    "regressive_model(train, test, LinearRegression(), 'LinearRegression')"
   ]
  },
  {
   "cell_type": "code",
   "execution_count": 78,
   "metadata": {},
   "outputs": [
    {
     "name": "stdout",
     "output_type": "stream",
     "text": [
      "RMSE: 99872.64747709122\n",
      "MAE: 76667.08333333333\n",
      "R2 Score: -5.4741319480198865\n"
     ]
    }
   ],
   "source": [
    "# Modelo Random Forest\n",
    "regressive_model(train, test, RandomForestRegressor(n_estimators=100, max_depth=20), 'RandomForest')"
   ]
  },
  {
   "cell_type": "code",
   "execution_count": 79,
   "metadata": {},
   "outputs": [
    {
     "name": "stdout",
     "output_type": "stream",
     "text": [
      "RMSE: 100381.08331586518\n",
      "MAE: 80734.0\n",
      "R2 Score: -5.540217297780758\n"
     ]
    }
   ],
   "source": [
    "# Modelo xGBoost\n",
    "regressive_model(train, test, XGBRegressor(n_estimators=100,max_depth=3, learning_rate=0.2,objective='reg:squarederror'), 'XGBoost')"
   ]
  }
 ],
 "metadata": {
  "kernelspec": {
   "display_name": "Python 3",
   "language": "python",
   "name": "python3"
  },
  "language_info": {
   "codemirror_mode": {
    "name": "ipython",
    "version": 3
   },
   "file_extension": ".py",
   "mimetype": "text/x-python",
   "name": "python",
   "nbconvert_exporter": "python",
   "pygments_lexer": "ipython3",
   "version": "3.12.3"
  }
 },
 "nbformat": 4,
 "nbformat_minor": 2
}
